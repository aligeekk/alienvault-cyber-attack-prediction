{
 "cells": [
  {
   "cell_type": "code",
   "execution_count": 56,
   "metadata": {
    "collapsed": true
   },
   "outputs": [],
   "source": [
    "def _loadData():\n",
    "    import numpy as np\n",
    "    finalList = list()\n",
    "    \n",
    "    with open(\"adversary1_data.csv\") as f:\n",
    "        for idx,line in enumerate(f):\n",
    "            if idx==0:\n",
    "                continue\n",
    "            \n",
    "            else:\n",
    "                tempList = list()\n",
    "                vals = line.strip().split(\",\")\n",
    "                for i in vals:\n",
    "                    tempList.append(float(i))\n",
    "                finalList.append(tempList)\n",
    "                \n",
    "    return finalList"
   ]
  },
  {
   "cell_type": "code",
   "execution_count": 57,
   "metadata": {
    "collapsed": false
   },
   "outputs": [],
   "source": [
    "import sklearn\n",
    "from sklearn import linear_model\n",
    "from sklearn.model_selection import train_test_split\n",
    "from sklearn import neighbors\n",
    "import numpy as np"
   ]
  },
  {
   "cell_type": "code",
   "execution_count": 58,
   "metadata": {
    "collapsed": false
   },
   "outputs": [],
   "source": [
    "data = np.array(_loadData())"
   ]
  },
  {
   "cell_type": "code",
   "execution_count": 62,
   "metadata": {
    "collapsed": false
   },
   "outputs": [],
   "source": [
    "### select all rows except last column\n",
    "X_matrix = data[:, :-1] \n",
    "### select last column\n",
    "Y = data[:, -1]\n",
    "\n",
    "#Splitting training and testing data (features)\n",
    "X_train, X_test, y_train, y_test = train_test_split(X_matrix, Y, test_size=0.2, random_state=33)"
   ]
  },
  {
   "cell_type": "code",
   "execution_count": 63,
   "metadata": {
    "collapsed": false
   },
   "outputs": [
    {
     "name": "stdout",
     "output_type": "stream",
     "text": [
      "('Coefficients:', array([ 0.76389613,  0.55466285, -0.29150318,  0.04050032, -1.24654886,\n",
      "       -1.30020689,  0.85191403,  0.41113836,  0.45117169, -0.23878176,\n",
      "       -0.21639684,  0.12321096,  0.76925474,  0.40102081, -0.00156156,\n",
      "        1.30850785,  1.22599988,  0.11703496,  0.45408004,  0.26711035,\n",
      "        0.87609164]))\n",
      "Residual sum of squares: 4.64\n",
      "Variance score: -0.08\n"
     ]
    }
   ],
   "source": [
    "# Linear regression\n",
    "# Create linear regression object\n",
    "regr = linear_model.LinearRegression()\n",
    "\n",
    "# Train the model using the training sets\n",
    "regr.fit(X_train, y_train)\n",
    "\n",
    "# The coefficients\n",
    "print('Coefficients:', regr.coef_)\n",
    "# The mean square error\n",
    "print(\"Residual sum of squares: %.2f\"\n",
    "      % np.mean((regr.predict(X_test) - y_test) ** 2))\n",
    "# Explained variance score: 1 is perfect prediction\n",
    "print('Variance score: %.2f' % regr.score(X_test, y_test))"
   ]
  },
  {
   "cell_type": "code",
   "execution_count": 64,
   "metadata": {
    "collapsed": false
   },
   "outputs": [
    {
     "name": "stdout",
     "output_type": "stream",
     "text": [
      "Residual sum of squares: 4.11\n",
      "Variance score: 0.04\n"
     ]
    }
   ],
   "source": [
    "#KNN Regression\n",
    "knn_regression = neighbors.KNeighborsRegressor()\n",
    "knn_regression.fit(X_train, y_train)\n",
    "\n",
    "print(\"Residual sum of squares: %.2f\"\n",
    "      % np.mean((knn_regression.predict(X_test) - y_test) ** 2))\n",
    "print('Variance score: %.2f' % knn_regression.score(X_test, y_test))"
   ]
  },
  {
   "cell_type": "code",
   "execution_count": null,
   "metadata": {
    "collapsed": true
   },
   "outputs": [],
   "source": []
  }
 ],
 "metadata": {
  "anaconda-cloud": {},
  "kernelspec": {
   "display_name": "Python [default]",
   "language": "python",
   "name": "python2"
  },
  "language_info": {
   "codemirror_mode": {
    "name": "ipython",
    "version": 2
   },
   "file_extension": ".py",
   "mimetype": "text/x-python",
   "name": "python",
   "nbconvert_exporter": "python",
   "pygments_lexer": "ipython2",
   "version": "2.7.15"
  }
 },
 "nbformat": 4,
 "nbformat_minor": 0
}
