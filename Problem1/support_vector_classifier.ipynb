{
 "cells": [
  {
   "cell_type": "code",
   "execution_count": 1,
   "metadata": {
    "collapsed": false
   },
   "outputs": [],
   "source": [
    "def _loadData():\n",
    "    import numpy as np\n",
    "    finalList = list()\n",
    "    \n",
    "    with open(\"final_data.csv\") as f:\n",
    "        for idx,line in enumerate(f):\n",
    "            if idx==0:\n",
    "                continue\n",
    "            \n",
    "            else:\n",
    "                tempList = list()\n",
    "                vals = line.strip().split(\",\")\n",
    "                for i in vals:\n",
    "                    tempList.append(float(i))\n",
    "                finalList.append(tempList)\n",
    "                \n",
    "    return finalList"
   ]
  },
  {
   "cell_type": "code",
   "execution_count": 2,
   "metadata": {
    "collapsed": false
   },
   "outputs": [],
   "source": [
    "import sklearn\n",
    "import sklearn.tree\n",
    "import graphviz\n",
    "import numpy as np\n",
    "from StringIO import StringIO\n",
    "from sklearn.model_selection import KFold\n",
    "from sklearn.svm import SVC\n",
    "from sklearn.metrics import accuracy_score, f1_score, precision_score, recall_score"
   ]
  },
  {
   "cell_type": "code",
   "execution_count": 3,
   "metadata": {
    "collapsed": false
   },
   "outputs": [
    {
     "data": {
      "text/plain": [
       "(176456, 194)"
      ]
     },
     "execution_count": 3,
     "metadata": {},
     "output_type": "execute_result"
    }
   ],
   "source": [
    "data = np.array(_loadData())\n",
    "data.shape"
   ]
  },
  {
   "cell_type": "code",
   "execution_count": 4,
   "metadata": {
    "collapsed": false
   },
   "outputs": [],
   "source": [
    "X_matrix = data[:, :-1] \n",
    "Y = data[:, -1]"
   ]
  },
  {
   "cell_type": "code",
   "execution_count": 5,
   "metadata": {
    "collapsed": false
   },
   "outputs": [],
   "source": [
    "### Initiate classifier\n",
    "clf = SVC(gamma='auto')"
   ]
  },
  {
   "cell_type": "code",
   "execution_count": 6,
   "metadata": {
    "collapsed": false
   },
   "outputs": [
    {
     "name": "stdout",
     "output_type": "stream",
     "text": [
      "Mean precision: 0.999953004151\n",
      "StDev precision: 2.97656324108e-05\n",
      "\n",
      "Mean recall: 1.0\n",
      "StDev recall: 0.0\n",
      "\n",
      "Mean f1: 0.999976501302\n",
      "StDev f1: 1.48835171761e-05\n",
      "\n",
      "Mean accuracy: 0.999971664324\n",
      "StDev accuracy: 1.7921156446e-05\n"
     ]
    }
   ],
   "source": [
    "kf = KFold(5, shuffle=True, random_state=33)\n",
    "\n",
    "recallList = list()\n",
    "precisionList = list()\n",
    "f1List = list()\n",
    "accuracyList = list()\n",
    "\n",
    "for train_index, test_index in kf.split(X_matrix):\n",
    "    clf_tree = clf.fit(X_matrix[train_index], Y[train_index])\n",
    "    \n",
    "    test = Y[test_index]\n",
    "    pred = clf.predict(X_matrix[test_index])\n",
    "    \n",
    "    #results = calcAccuracy(pred, test)\n",
    "    \n",
    "    recallList.append(recall_score(test, pred))\n",
    "    precisionList.append(precision_score(test, pred))\n",
    "    f1List.append(f1_score(test,pred))\n",
    "    accuracyList.append(accuracy_score(test,pred))\n",
    "\n",
    "\n",
    "print(\"Mean precision: \" + str(np.mean(precisionList)))\n",
    "print(\"StDev precision: \" + str(np.std(precisionList)))\n",
    "print(\"\")\n",
    "print(\"Mean recall: \" + str(np.mean(recallList)))\n",
    "print(\"StDev recall: \" + str(np.std(recallList)))\n",
    "print(\"\")\n",
    "print(\"Mean f1: \" + str(np.mean(f1List)))\n",
    "print(\"StDev f1: \" + str(np.std(f1List)))\n",
    "print(\"\")\n",
    "print(\"Mean accuracy: \" + str(np.mean(accuracyList)))\n",
    "print(\"StDev accuracy: \" + str(np.std(accuracyList)))"
   ]
  },
  {
   "cell_type": "code",
   "execution_count": null,
   "metadata": {
    "collapsed": true
   },
   "outputs": [],
   "source": []
  }
 ],
 "metadata": {
  "anaconda-cloud": {},
  "kernelspec": {
   "display_name": "Python [default]",
   "language": "python",
   "name": "python2"
  },
  "language_info": {
   "codemirror_mode": {
    "name": "ipython",
    "version": 2
   },
   "file_extension": ".py",
   "mimetype": "text/x-python",
   "name": "python",
   "nbconvert_exporter": "python",
   "pygments_lexer": "ipython2",
   "version": "2.7.15"
  }
 },
 "nbformat": 4,
 "nbformat_minor": 1
}
