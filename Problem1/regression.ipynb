{
 "cells": [
  {
   "cell_type": "code",
   "execution_count": 1,
   "metadata": {
    "collapsed": true
   },
   "outputs": [],
   "source": [
    "def _loadData():\n",
    "    import numpy as np\n",
    "    finalList = list()\n",
    "    \n",
    "    with open(\"final_data.csv\") as f:\n",
    "        for idx,line in enumerate(f):\n",
    "            if idx==0:\n",
    "                continue\n",
    "            \n",
    "            else:\n",
    "                tempList = list()\n",
    "                vals = line.strip().split(\",\")\n",
    "                for i in vals:\n",
    "                    tempList.append(float(i))\n",
    "                finalList.append(tempList)\n",
    "                \n",
    "    return finalList"
   ]
  },
  {
   "cell_type": "code",
   "execution_count": 9,
   "metadata": {
    "collapsed": false
   },
   "outputs": [],
   "source": [
    "import sklearn\n",
    "from sklearn import linear_model\n",
    "from sklearn.model_selection import train_test_split\n",
    "from sklearn.model_selection import KFold\n",
    "from sklearn.metrics import accuracy_score, f1_score, precision_score, recall_score\n",
    "from sklearn import neighbors\n",
    "import numpy as np"
   ]
  },
  {
   "cell_type": "code",
   "execution_count": 3,
   "metadata": {
    "collapsed": false
   },
   "outputs": [
    {
     "data": {
      "text/plain": [
       "(176456, 194)"
      ]
     },
     "execution_count": 3,
     "metadata": {},
     "output_type": "execute_result"
    }
   ],
   "source": [
    "data = np.array(_loadData())\n",
    "data.shape"
   ]
  },
  {
   "cell_type": "code",
   "execution_count": 4,
   "metadata": {
    "collapsed": false
   },
   "outputs": [],
   "source": [
    "### select all rows except last column\n",
    "X_matrix = data[:, :-1] \n",
    "### select last column\n",
    "Y = data[:, -1]\n",
    "\n",
    "#Splitting training and testing data (features)\n",
    "X_train, X_test, y_train, y_test = train_test_split(X_matrix, Y, test_size=0.2, random_state=33)"
   ]
  },
  {
   "cell_type": "code",
   "execution_count": 5,
   "metadata": {
    "collapsed": false
   },
   "outputs": [
    {
     "name": "stdout",
     "output_type": "stream",
     "text": [
      "('Coefficients:', array([[  3.72452877e-01,   2.47995660e-01,   2.32995513e-01,\n",
      "         -6.00822458e-03,   1.81739900e-01,  -2.31890533e-01,\n",
      "         -6.87529631e-02,   4.03510531e-01,   4.64695304e-01,\n",
      "          6.46490798e-02,   1.65239188e+00,   3.21543469e-01,\n",
      "          1.76056889e+00,   2.78339180e+00,   5.58917499e-02,\n",
      "          1.16178360e-01,   9.10971920e-01,   1.17121822e+00,\n",
      "         -2.39370160e-01,  -1.91244251e-01,   6.45625717e-02,\n",
      "          4.82799673e-01,  -1.59853148e-01,   3.94111541e-02,\n",
      "          2.00169467e-02,   2.36420510e-01,   2.23431399e-01,\n",
      "         -3.45043073e-01,   5.67704069e-01,   1.77271198e-01,\n",
      "         -6.66513183e-01,  -1.47458321e-03,  -1.32119171e-01,\n",
      "         -2.33017481e-01,   7.84619226e-02,   6.54707580e-02,\n",
      "          9.28110499e-01,  -2.69435735e-02,  -3.44370436e-02,\n",
      "          4.46351728e-01,  -1.80850699e-02,  -1.39268601e-01,\n",
      "         -2.51662008e-01,   5.41233685e-02,   2.04245307e-01,\n",
      "          5.41216074e-02,   7.78868090e-01,   9.11446120e-03,\n",
      "          2.02671947e-01,   9.11622234e-03,  -1.85341288e-01,\n",
      "          1.39886357e-01,   9.11622234e-03,   9.11622234e-03,\n",
      "          9.11622234e-03,   9.11622234e-03,   1.16794721e+00,\n",
      "          3.96884361e-01,   1.47562119e-03,   2.12781347e-01,\n",
      "          3.69906428e-01,   5.58861510e-01,   2.08894130e-03,\n",
      "          4.40562204e-01,   5.22293141e-02,   6.20070455e-03,\n",
      "          6.20070455e-03,   6.20070455e-03,   1.24600156e+00,\n",
      "          1.36847211e+00,   7.76098043e-03,   3.09040654e-01,\n",
      "          5.18221319e-03,   5.18221319e-03,   5.18221319e-03,\n",
      "          5.18221319e-03,   5.18221319e-03,   5.18221319e-03,\n",
      "          5.18221319e-03,   5.78227025e-01,   3.13841974e-01,\n",
      "          3.35885542e-01,   1.23044348e-02,   6.48227202e-01,\n",
      "          1.25225313e-02,   2.16032901e-02,   5.53863964e-01,\n",
      "          4.20159577e-02,   1.65580463e-01,   1.00020351e+00,\n",
      "          6.08558699e-01,   9.23199279e-01,   1.46027942e+00,\n",
      "          7.51737475e-01,   3.23418429e-01,   8.76571608e-01,\n",
      "          5.64828478e-01,   1.18528367e-02,   1.60994345e-01,\n",
      "          7.82458430e-01,   9.84978743e-01,   4.30987878e-01,\n",
      "         -5.01600836e-02,   5.94725130e-01,  -2.29767172e-01,\n",
      "         -7.61360933e-02,  -2.96229380e-01,  -5.91032458e-02,\n",
      "          9.66216572e-01,   1.74223855e-02,   2.96823119e-03,\n",
      "          2.96823119e-03,   1.80609889e-02,   8.47318119e-02,\n",
      "          9.66025927e-02,   8.47318119e-02,   1.69976305e-02,\n",
      "          2.96823119e-03,   1.18123429e-02,   4.05387812e-03,\n",
      "          0.00000000e+00,   2.23115166e-01,   1.07530341e+00,\n",
      "          1.49621011e-03,   5.26630617e-01,   1.49621011e-03,\n",
      "          8.01260045e-03,   5.40218051e-02,   7.53424103e-04,\n",
      "          7.53424103e-04,   4.17971792e-02,   7.53424103e-04,\n",
      "          3.15709989e-02,   9.79074655e-02,   3.27532171e-01,\n",
      "          3.50817917e-02,   2.84235202e-01,   1.72548577e-02,\n",
      "          8.25802493e-01,   1.36652971e-01,   1.91199331e-01,\n",
      "          2.04060574e-01,  -3.54015802e+00,  -3.42390025e+00,\n",
      "         -2.64060593e+00,  -3.50945467e+00,  -3.69809207e+00,\n",
      "         -4.75647225e+00,  -3.31816441e+00,  -4.62841210e+00,\n",
      "         -3.15825282e+00,  -3.37178497e+00,  -2.87656155e+00,\n",
      "         -3.88457058e+00,  -2.44760163e+00,  -3.43848233e+00,\n",
      "         -2.68058966e+00,  -2.86131743e+00,  -3.06547950e+00,\n",
      "         -3.65312928e+00,  -3.70165888e+00,  -4.13150866e+00,\n",
      "         -2.91704625e+00,  -3.66424950e+00,  -3.36725536e+00,\n",
      "         -3.46553090e+00,  -3.99396264e+00,  -2.43141735e+00,\n",
      "         -3.35397960e+00,  -3.91426360e+00,  -3.65023254e+00,\n",
      "         -4.28494625e+00,  -3.17096809e+00,  -6.32159250e+00,\n",
      "         -3.93201901e+00,  -2.42627247e+00,  -4.32437335e+00,\n",
      "         -3.39242305e+00,  -2.33865674e+00,  -4.04077673e+00,\n",
      "         -3.66765601e+00,  -2.95583240e+00,  -2.95204292e+00,\n",
      "         -3.53675016e+00,  -3.44290336e+00,  -3.96899462e+00,\n",
      "         -2.44109942e+00,  -3.05960000e+00,  -3.76956592e+00,\n",
      "         -2.73967083e+00,  -3.32210265e+00,  -3.48658561e+00,\n",
      "         -3.55897342e+00]]))\n",
      "Residual sum of squares: 0.00\n",
      "Variance score: 1.00\n"
     ]
    }
   ],
   "source": [
    "# Linear regression\n",
    "# Create logistic regression object\n",
    "regr = linear_model.LogisticRegression()\n",
    "\n",
    "# Train the model using the training sets\n",
    "regr.fit(X_train, y_train)\n",
    "\n",
    "# The coefficients\n",
    "print('Coefficients:', regr.coef_)\n",
    "# The mean square error\n",
    "print(\"Residual sum of squares: %.2f\"\n",
    "      % np.mean((regr.predict(X_test) - y_test) ** 2))\n",
    "# Explained variance score: 1 is perfect prediction\n",
    "print('Variance score: %.2f' % regr.score(X_test, y_test))"
   ]
  },
  {
   "cell_type": "code",
   "execution_count": 10,
   "metadata": {
    "collapsed": false
   },
   "outputs": [
    {
     "name": "stdout",
     "output_type": "stream",
     "text": [
      "Mean precision: 0.999953004151\n",
      "StDev precision: 2.97656324108e-05\n",
      "\n",
      "Mean recall: 1.0\n",
      "StDev recall: 0.0\n",
      "\n",
      "Mean f1: 0.999976501302\n",
      "StDev f1: 1.48835171761e-05\n",
      "\n",
      "Mean accuracy: 0.999971664324\n",
      "StDev accuracy: 1.7921156446e-05\n"
     ]
    }
   ],
   "source": [
    "kf = KFold(5, shuffle=True, random_state=33)\n",
    "\n",
    "recallList = list()\n",
    "precisionList = list()\n",
    "f1List = list()\n",
    "accuracyList = list()\n",
    "\n",
    "for train_index, test_index in kf.split(X_matrix):\n",
    "    regr.fit(X_matrix[train_index], Y[train_index])\n",
    "    \n",
    "    test = Y[test_index]\n",
    "    pred = regr.predict(X_matrix[test_index]))\n",
    "    \n",
    "    recallList.append(recall_score(test, pred))\n",
    "    precisionList.append(precision_score(test, pred))\n",
    "    f1List.append(f1_score(test,pred))\n",
    "    accuracyList.append(accuracy_score(test,pred))\n",
    "\n",
    "\n",
    "print(\"Mean precision: \" + str(np.mean(precisionList)))\n",
    "print(\"StDev precision: \" + str(np.std(precisionList)))\n",
    "print(\"\")\n",
    "print(\"Mean recall: \" + str(np.mean(recallList)))\n",
    "print(\"StDev recall: \" + str(np.std(recallList)))\n",
    "print(\"\")\n",
    "print(\"Mean f1: \" + str(np.mean(f1List)))\n",
    "print(\"StDev f1: \" + str(np.std(f1List)))\n",
    "print(\"\")\n",
    "print(\"Mean accuracy: \" + str(np.mean(accuracyList)))\n",
    "print(\"StDev accuracy: \" + str(np.std(accuracyList)))"
   ]
  },
  {
   "cell_type": "code",
   "execution_count": null,
   "metadata": {
    "collapsed": true
   },
   "outputs": [],
   "source": []
  }
 ],
 "metadata": {
  "anaconda-cloud": {},
  "kernelspec": {
   "display_name": "Python [default]",
   "language": "python",
   "name": "python2"
  },
  "language_info": {
   "codemirror_mode": {
    "name": "ipython",
    "version": 2
   },
   "file_extension": ".py",
   "mimetype": "text/x-python",
   "name": "python",
   "nbconvert_exporter": "python",
   "pygments_lexer": "ipython2",
   "version": "2.7.15"
  }
 },
 "nbformat": 4,
 "nbformat_minor": 0
}
