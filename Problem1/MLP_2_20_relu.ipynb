{
 "cells": [
  {
   "cell_type": "code",
   "execution_count": 4,
   "metadata": {
    "collapsed": true
   },
   "outputs": [],
   "source": [
    "def _loadData():\n",
    "    import numpy as np\n",
    "    finalList = list()\n",
    "    \n",
    "    with open(\"final_data.csv\") as f:\n",
    "        for idx,line in enumerate(f):\n",
    "            if idx==0:\n",
    "                continue\n",
    "            \n",
    "            else:\n",
    "                tempList = list()\n",
    "                vals = line.strip().split(\",\")\n",
    "                for i in vals:\n",
    "                    tempList.append(float(i))\n",
    "                finalList.append(tempList)\n",
    "                \n",
    "    return finalList"
   ]
  },
  {
   "cell_type": "code",
   "execution_count": 5,
   "metadata": {
    "collapsed": false
   },
   "outputs": [],
   "source": [
    "import sklearn\n",
    "from sklearn.model_selection import cross_validate, cross_val_predict\n",
    "from sklearn.neural_network import MLPClassifier\n",
    "from sklearn.metrics import accuracy_score, f1_score, precision_score, recall_score\n",
    "from sklearn.preprocessing import StandardScaler\n",
    "import numpy as np"
   ]
  },
  {
   "cell_type": "code",
   "execution_count": 6,
   "metadata": {
    "collapsed": false
   },
   "outputs": [
    {
     "data": {
      "text/plain": [
       "(176456, 194)"
      ]
     },
     "execution_count": 6,
     "metadata": {},
     "output_type": "execute_result"
    }
   ],
   "source": [
    "data = np.array(_loadData())\n",
    "data.shape"
   ]
  },
  {
   "cell_type": "code",
   "execution_count": 7,
   "metadata": {
    "collapsed": false
   },
   "outputs": [],
   "source": [
    "### select all rows except last column\n",
    "X_matrix = data[:, :-1] \n",
    "### select last column\n",
    "Y = data[:, -1]\n",
    "\n",
    "# Create MLP object\n",
    "mlp_clf = MLPClassifier(hidden_layer_sizes=(20, 20))"
   ]
  },
  {
   "cell_type": "code",
   "execution_count": 8,
   "metadata": {
    "collapsed": false
   },
   "outputs": [
    {
     "name": "stdout",
     "output_type": "stream",
     "text": [
      "Precision: 0.999990590892\n",
      "\n",
      "Recall: 1.0\n",
      "\n",
      "F1: 0.999995295424\n",
      "\n",
      "Accuracy: 0.999994332865\n"
     ]
    }
   ],
   "source": [
    "y_pred = cross_val_predict(mlp_clf, X_matrix, Y, cv=5)\n",
    "print(\"Precision: \" + str(precision_score(Y, y_pred)))\n",
    "print(\"\")\n",
    "print(\"Recall: \" + str(recall_score(Y, y_pred)))\n",
    "print(\"\")\n",
    "print(\"F1: \" + str(f1_score(Y, y_pred)))\n",
    "print(\"\")\n",
    "print(\"Accuracy: \" + str(accuracy_score(Y, y_pred)))"
   ]
  },
  {
   "cell_type": "code",
   "execution_count": null,
   "metadata": {
    "collapsed": false
   },
   "outputs": [],
   "source": []
  }
 ],
 "metadata": {
  "anaconda-cloud": {},
  "kernelspec": {
   "display_name": "Python [default]",
   "language": "python",
   "name": "python2"
  },
  "language_info": {
   "codemirror_mode": {
    "name": "ipython",
    "version": 2
   },
   "file_extension": ".py",
   "mimetype": "text/x-python",
   "name": "python",
   "nbconvert_exporter": "python",
   "pygments_lexer": "ipython2",
   "version": "2.7.15"
  }
 },
 "nbformat": 4,
 "nbformat_minor": 0
}
